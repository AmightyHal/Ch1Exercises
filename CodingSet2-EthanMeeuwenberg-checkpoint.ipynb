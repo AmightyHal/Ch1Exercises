{
 "cells": [
  {
   "cell_type": "markdown",
   "id": "76975e2e",
   "metadata": {},
   "source": [
    "## Coding Set 2"
   ]
  },
  {
   "cell_type": "markdown",
   "id": "e1de1f66",
   "metadata": {},
   "source": [
    "## Algorithm Workbench Problem 11\n",
    "\n",
    "Write a python statement that displays the number with commas"
   ]
  },
  {
   "cell_type": "code",
   "execution_count": 1,
   "id": "ef6453ac",
   "metadata": {},
   "outputs": [],
   "source": [
    "number = 1234567.456"
   ]
  },
  {
   "cell_type": "markdown",
   "id": "fc1e756a",
   "metadata": {},
   "source": [
    "We must format the number using a format string to specify what seperator we are using and how many decimals we want"
   ]
  },
  {
   "cell_type": "code",
   "execution_count": 4,
   "id": "d511c105",
   "metadata": {},
   "outputs": [],
   "source": [
    "formatted_number = '{:,.1f}'.format(number)"
   ]
  },
  {
   "cell_type": "markdown",
   "id": "9013ca51",
   "metadata": {},
   "source": [
    "Now we will print out number and it should have commas and a rounded decimal"
   ]
  },
  {
   "cell_type": "code",
   "execution_count": 5,
   "id": "b2d409ea",
   "metadata": {},
   "outputs": [
    {
     "name": "stdout",
     "output_type": "stream",
     "text": [
      "1,234,567.5\n"
     ]
    }
   ],
   "source": [
    "print(formatted_number)"
   ]
  },
  {
   "cell_type": "markdown",
   "id": "f05cbc53",
   "metadata": {},
   "source": []
  },
  {
   "cell_type": "markdown",
   "id": "11645a42",
   "metadata": {},
   "source": [
    "## Programming Exercise 7\n",
    "\n",
    "Write a program that can calculate mpg given using user data"
   ]
  },
  {
   "cell_type": "code",
   "execution_count": null,
   "id": "67b35a72",
   "metadata": {},
   "outputs": [],
   "source": []
  }
 ],
 "metadata": {
  "kernelspec": {
   "display_name": "Python 3 (ipykernel)",
   "language": "python",
   "name": "python3"
  },
  "language_info": {
   "codemirror_mode": {
    "name": "ipython",
    "version": 3
   },
   "file_extension": ".py",
   "mimetype": "text/x-python",
   "name": "python",
   "nbconvert_exporter": "python",
   "pygments_lexer": "ipython3",
   "version": "3.11.4"
  }
 },
 "nbformat": 4,
 "nbformat_minor": 5
}
