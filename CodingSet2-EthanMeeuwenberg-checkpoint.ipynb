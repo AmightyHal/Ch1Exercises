{
 "cells": [
  {
   "cell_type": "markdown",
   "id": "76975e2e",
   "metadata": {},
   "source": [
    "## Coding Set 2"
   ]
  },
  {
   "cell_type": "markdown",
   "id": "f9b1f269",
   "metadata": {},
   "source": [
    "## Algorithm Workbench Problem 11\n",
    "\n",
    "Write a python statement that displays the number with commas"
   ]
  },
  {
   "cell_type": "code",
   "execution_count": 1,
   "id": "2ca3da35",
   "metadata": {},
   "outputs": [],
   "source": [
    "number = 1234567.456"
   ]
  },
  {
   "cell_type": "markdown",
   "id": "4463d86c",
   "metadata": {},
   "source": [
    "We must format the number using a format string to specify what seperator we are using and how many decimals we want"
   ]
  },
  {
   "cell_type": "code",
   "execution_count": 4,
   "id": "122bda32",
   "metadata": {},
   "outputs": [],
   "source": [
    "formatted_number = '{:,.1f}'.format(number)"
   ]
  },
  {
   "cell_type": "markdown",
   "id": "a8bbd2e4",
   "metadata": {},
   "source": [
    "Now we will print out number and it should have commas and a rounded decimal"
   ]
  },
  {
   "cell_type": "code",
   "execution_count": 5,
   "id": "83a7685f",
   "metadata": {},
   "outputs": [
    {
     "name": "stdout",
     "output_type": "stream",
     "text": [
      "1,234,567.5\n"
     ]
    }
   ],
   "source": [
    "print(formatted_number)"
   ]
  },
  {
   "cell_type": "markdown",
   "id": "aa00ff81",
   "metadata": {},
   "source": []
  },
  {
   "cell_type": "markdown",
   "id": "d4042130",
   "metadata": {},
   "source": [
    "## Programming Exercise 7\n",
    "\n",
    "Write a program that can calculate mpg using user data inputed "
   ]
  },
  {
   "cell_type": "code",
   "execution_count": 11,
   "id": "6cf4203c",
   "metadata": {},
   "outputs": [
    {
     "name": "stdout",
     "output_type": "stream",
     "text": [
      "How many miles did you drive? 10\n",
      "How many gallons of gas did you use? 0\n"
     ]
    }
   ],
   "source": [
    "miles_driven = float(input('How many miles did you drive? '))\n",
    "\n",
    "gallons_used = float(input('How many gallons of gas did you use? '))"
   ]
  },
  {
   "cell_type": "markdown",
   "id": "2f894647",
   "metadata": {},
   "source": [
    "Prompts user for miles and gallons used on trip using input and floats them"
   ]
  },
  {
   "cell_type": "code",
   "execution_count": 12,
   "id": "70c7c297",
   "metadata": {},
   "outputs": [
    {
     "name": "stdout",
     "output_type": "stream",
     "text": [
      "Invalid: gallons must be greater than zero.\n"
     ]
    }
   ],
   "source": [
    "if gallons_used != 0:\n",
    "    mpg = miles_driven / gallons_used\n",
    "    print(f\"MPG is: {mpg:.2f} miles per gallon\")\n",
    "else:\n",
    "    print(\"Invalid: gallons must be greater than zero.\")"
   ]
  },
  {
   "cell_type": "markdown",
   "id": "dcb83881",
   "metadata": {},
   "source": [
    "Calculates the MPG of the trip and makes sure a user cannot add an invalid input since you cannot divide by zero"
   ]
  },
  {
   "cell_type": "code",
   "execution_count": null,
   "id": "227f7c95",
   "metadata": {},
   "outputs": [],
   "source": []
  },
  {
   "cell_type": "markdown",
   "id": "e1360b64",
   "metadata": {},
   "source": [
    "## Programming Exercise 13\n",
    "\n",
    "Write a program that calcuates how many grapevines per row a farmer can have"
   ]
  },
  {
   "cell_type": "code",
   "execution_count": 13,
   "id": "0b692758",
   "metadata": {},
   "outputs": [
    {
     "name": "stdout",
     "output_type": "stream",
     "text": [
      "How many feet is the row? 20\n",
      "What is the space in feet that is used by an end post? 2\n",
      "What is the space between vines in feet? 3\n"
     ]
    }
   ],
   "source": [
    "length = float(input('How many feet is the row? '))\n",
    "\n",
    "end_post = float(input('What is the space in feet that is used by an end post? '))\n",
    "\n",
    "space = float(input('What is the space between vines in feet? '))"
   ]
  },
  {
   "cell_type": "markdown",
   "id": "3d418594",
   "metadata": {},
   "source": [
    "Prompts user for all information needed to calculate the number of grapevines that fit in one row"
   ]
  },
  {
   "cell_type": "code",
   "execution_count": 19,
   "id": "6f2918ea",
   "metadata": {},
   "outputs": [
    {
     "name": "stdout",
     "output_type": "stream",
     "text": [
      "The amount of grapevines you can plant is: 5\n"
     ]
    }
   ],
   "source": [
    "if space != 0:\n",
    "    grapevines = (length - 2 * end_post) / space\n",
    "    print(f\"The amount of grapevines you can plant is: {grapevines:.0f}\")\n",
    "else:\n",
    "    print(\"Invalid: space must be greater than 0\")"
   ]
  },
  {
   "cell_type": "markdown",
   "id": "9a96bd55",
   "metadata": {},
   "source": [
    "Calculate the amount of grapevines as number with 0 decimals and checks to see if a user added an invalid input since you cannot divide by zero"
   ]
  }
 ],
 "metadata": {
  "kernelspec": {
   "display_name": "Python 3 (ipykernel)",
   "language": "python",
   "name": "python3"
  },
  "language_info": {
   "codemirror_mode": {
    "name": "ipython",
    "version": 3
   },
   "file_extension": ".py",
   "mimetype": "text/x-python",
   "name": "python",
   "nbconvert_exporter": "python",
   "pygments_lexer": "ipython3",
   "version": "3.11.4"
  }
 },
 "nbformat": 4,
 "nbformat_minor": 5
}
