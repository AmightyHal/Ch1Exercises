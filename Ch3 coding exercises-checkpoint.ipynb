{
 "cells": [
  {
   "cell_type": "markdown",
   "id": "a09b684e",
   "metadata": {},
   "source": [
    "## Coding set 3\n",
    "\n",
    "# Q1"
   ]
  },
  {
   "cell_type": "code",
   "execution_count": 10,
   "id": "08bdca4e",
   "metadata": {},
   "outputs": [
    {
     "name": "stdout",
     "output_type": "stream",
     "text": [
      "Please enter a number 1-7.1.1\n"
     ]
    }
   ],
   "source": [
    "# first we will ask the user for the input\n",
    "day = float(input(\"Please enter a number 1-7.\"))\n",
    "\n",
    "# we check to make sure the input is 7 or less but also equal to or greater than 1 to get an output\n",
    "\n",
    "if day <= 7 and day >= 1:\n",
    "    # now we check for which number was input\n",
    "    if day == 1:\n",
    "        print(\"Monday\")\n",
    "    else:\n",
    "        if day == 2:\n",
    "            print(\"Tuesday\")\n",
    "        else:\n",
    "            if day == 3:\n",
    "                print(\"Wednesday\")\n",
    "            else:\n",
    "                if day == 4:\n",
    "                    print(\"Thursday\")\n",
    "                else:\n",
    "                    if day == 5:\n",
    "                        print(\"Friday\")\n",
    "                    else:\n",
    "                        if day == 6:\n",
    "                            print(\"Saturday\")\n",
    "                        else:\n",
    "                            if day == 7:\n",
    "                                print(\"Sunday\")\n",
    "# Provide an error if number isnt in our parameters\n",
    "else:\n",
    "    print(\"ERROR: Please enter a number 1-7\")\n"
   ]
  },
  {
   "cell_type": "code",
   "execution_count": null,
   "id": "ada7d38a",
   "metadata": {},
   "outputs": [],
   "source": [
    "# Q5"
   ]
  },
  {
   "cell_type": "code",
   "execution_count": 14,
   "id": "040936b4",
   "metadata": {},
   "outputs": [
    {
     "name": "stdout",
     "output_type": "stream",
     "text": [
      "Please enter the object's mass.52\n",
      "The object is too heavy and must be below 500 newtons! Weight: 509.6\n"
     ]
    }
   ],
   "source": [
    "# first we will ask the user for the mass of the object\n",
    "mass = float(input(\"Please enter the object's mass.\"))\n",
    "\n",
    "weight = mass * 9.8\n",
    "\n",
    "# now we check our parameters I will begin checking for the lowest weight\n",
    "if weight < 100:\n",
    "    print(f2\"The object is too light and must be above 100 newtons! Weight: {weight}\")\n",
    "    \n",
    "else:\n",
    "    # if our weight exceeds 100 we will now check if it exceeds 500\n",
    "    if weight > 500:\n",
    "        print(f2\"The object is too heavy and must be below 500 newtons! Weight: {weight}\")\n",
    "        # now that we know that our object is greater than 100 newtons but less than 500 we can safely say this object fits our criteria\n",
    "    else:\n",
    "        print(f2\"Your object fits parameters! Weight: {weight}\")\n",
    "        "
   ]
  },
  {
   "cell_type": "code",
   "execution_count": 15,
   "id": "23d313ff",
   "metadata": {},
   "outputs": [],
   "source": [
    "# Q16"
   ]
  },
  {
   "cell_type": "code",
   "execution_count": 19,
   "id": "6142c808",
   "metadata": {},
   "outputs": [
    {
     "name": "stdout",
     "output_type": "stream",
     "text": [
      "Reboot the computer and try to connect.\n",
      "Did that fix the problem? (yes/no): no\n",
      "Reboot the router and try to connect.\n",
      "Did that fix the problem? (yes/no): no\n",
      "Make sure the cables between the router & modem are plugged in firmly.\n",
      "Did that fix the problem? (yes/no): no\n",
      "Move the router to a new location and try to connect.\n",
      "Did that fix the problem? (yes/no): no\n",
      "Get a new router.\n"
     ]
    },
    {
     "ename": "SystemExit",
     "evalue": "",
     "output_type": "error",
     "traceback": [
      "An exception has occurred, use %tb to see the full traceback.\n",
      "\u001b[1;31mSystemExit\u001b[0m\n"
     ]
    }
   ],
   "source": [
    "import sys\n",
    "# using the sys module we are able to use sys.exit() to close the program after getting a yes from the user\n",
    "user_input = \"\" # defining our user input\n",
    "\n",
    "def troubleshoot(): # creating a function to run saves time\n",
    "    global user_input # using global we make it so the entire program can see this value\n",
    "    user_input = input(\"Did that fix the problem? (yes/no): \")\n",
    "\n",
    "def yessir(): # after user confirms we will run this function to close the program and leave a happy to help msg\n",
    "    print(\"Happy to help!\")\n",
    "    sys.exit()\n",
    "    \n",
    "while True:\n",
    "    \n",
    "    print(\"Reboot the computer and try to connect.\")\n",
    "    \n",
    "    troubleshoot() # this is how we will run the function prompting if our problem is fixed\n",
    "    \n",
    "    # now we will start at the top of our flow chart an move down until we get a yes or we tell them to get a new router\n",
    "    if user_input.lower() == \"yes\":\n",
    "        yessir()\n",
    "    else:\n",
    "        print(\"Reboot the router and try to connect.\")\n",
    "        troubleshoot()\n",
    "        \n",
    "        if user_input.lower() == \"yes\":\n",
    "            yessir()\n",
    "        else:\n",
    "            print(\"Make sure the cables between the router & modem are plugged in firmly.\")\n",
    "            troubleshoot()\n",
    "            \n",
    "            if user_input.lower() == \"yes\":\n",
    "                yessir()\n",
    "            else:\n",
    "                print(\"Move the router to a new location and try to connect.\")\n",
    "                troubleshoot()\n",
    "                \n",
    "                if user_input.lower() == \"yes\":\n",
    "                    yessir()\n",
    "                else:\n",
    "                    print(\"Get a new router.\")\n",
    "                    sys.exit()"
   ]
  },
  {
   "cell_type": "code",
   "execution_count": null,
   "id": "f858ad61",
   "metadata": {},
   "outputs": [],
   "source": []
  }
 ],
 "metadata": {
  "kernelspec": {
   "display_name": "Python 3 (ipykernel)",
   "language": "python",
   "name": "python3"
  },
  "language_info": {
   "codemirror_mode": {
    "name": "ipython",
    "version": 3
   },
   "file_extension": ".py",
   "mimetype": "text/x-python",
   "name": "python",
   "nbconvert_exporter": "python",
   "pygments_lexer": "ipython3",
   "version": "3.11.4"
  }
 },
 "nbformat": 4,
 "nbformat_minor": 5
}
