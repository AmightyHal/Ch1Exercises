{
 "cells": [
  {
   "cell_type": "markdown",
   "id": "3ce445f1",
   "metadata": {},
   "source": [
    "## Coding set 3\n",
    "\n",
    "# Q1"
   ]
  },
  {
   "cell_type": "code",
   "execution_count": 10,
   "id": "0dd436cf",
   "metadata": {},
   "outputs": [
    {
     "name": "stdout",
     "output_type": "stream",
     "text": [
      "Please enter a number 1-7.1.1\n"
     ]
    }
   ],
   "source": [
    "# first we will ask the user for the input\n",
    "day = float(input(\"Please enter a number 1-7.\"))\n",
    "\n",
    "# we check to make sure the input is 7 or less but also equal to or greater than 1 to get an output\n",
    "\n",
    "if day <= 7 and day >= 1:\n",
    "    # now we check for which number was input\n",
    "    if day == 1:\n",
    "        print(\"Monday\")\n",
    "    else:\n",
    "        if day == 2:\n",
    "            print(\"Tuesday\")\n",
    "        else:\n",
    "            if day == 3:\n",
    "                print(\"Wednesday\")\n",
    "            else:\n",
    "                if day == 4:\n",
    "                    print(\"Thursday\")\n",
    "                else:\n",
    "                    if day == 5:\n",
    "                        print(\"Friday\")\n",
    "                    else:\n",
    "                        if day == 6:\n",
    "                            print(\"Saturday\")\n",
    "                        else:\n",
    "                            if day == 7:\n",
    "                                print(\"Sunday\")\n",
    "# Provide an error if number isnt in our parameters\n",
    "else:\n",
    "    print(\"ERROR: Please enter a number 1-7\")\n"
   ]
  },
  {
   "cell_type": "code",
   "execution_count": null,
   "id": "1b9b7e08",
   "metadata": {},
   "outputs": [],
   "source": [
    "# Q5"
   ]
  },
  {
   "cell_type": "code",
   "execution_count": 14,
   "id": "e17ee495",
   "metadata": {},
   "outputs": [
    {
     "name": "stdout",
     "output_type": "stream",
     "text": [
      "Please enter the object's mass.52\n",
      "The object is too heavy and must be below 500 newtons! Weight: 509.6\n"
     ]
    }
   ],
   "source": [
    "# first we will ask the user for the mass of the object\n",
    "mass = float(input(\"Please enter the object's mass.\"))\n",
    "\n",
    "weight = mass * 9.8\n",
    "\n",
    "# now we check our parameters I will begin checking for the lowest weight\n",
    "if weight < 100:\n",
    "    print(f2\"The object is too light and must be above 100 newtons! Weight: {weight}\")\n",
    "    \n",
    "else:\n",
    "    # if our weight exceeds 100 we will now check if it exceeds 500\n",
    "    if weight > 500:\n",
    "        print(f2\"The object is too heavy and must be below 500 newtons! Weight: {weight}\")\n",
    "        # now that we know that our object is greater than 100 newtons but less than 500 we can safely say this object fits our criteria\n",
    "    else:\n",
    "        print(f2\"Your object fits parameters! Weight: {weight}\")\n",
    "        "
   ]
  },
  {
   "cell_type": "code",
   "execution_count": 15,
   "id": "79bf33ab",
   "metadata": {},
   "outputs": [],
   "source": [
    "# Q16"
   ]
  },
  {
   "cell_type": "code",
   "execution_count": null,
   "id": "31b5ebc1",
   "metadata": {},
   "outputs": [],
   "source": []
  }
 ],
 "metadata": {
  "kernelspec": {
   "display_name": "Python 3 (ipykernel)",
   "language": "python",
   "name": "python3"
  },
  "language_info": {
   "codemirror_mode": {
    "name": "ipython",
    "version": 3
   },
   "file_extension": ".py",
   "mimetype": "text/x-python",
   "name": "python",
   "nbconvert_exporter": "python",
   "pygments_lexer": "ipython3",
   "version": "3.11.4"
  }
 },
 "nbformat": 4,
 "nbformat_minor": 5
}
