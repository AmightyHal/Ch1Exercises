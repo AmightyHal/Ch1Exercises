{
 "cells": [
  {
   "cell_type": "code",
   "execution_count": 1,
   "id": "1edcb832-0522-4408-808c-10b1cb370aa6",
   "metadata": {
    "tags": []
   },
   "outputs": [],
   "source": [
    "## Chapter 5 coding set\n",
    "# algo workbench"
   ]
  },
  {
   "cell_type": "code",
   "execution_count": 2,
   "id": "5ddf2a2c-92ec-4cd8-b96e-7a9511f42cf9",
   "metadata": {
    "tags": []
   },
   "outputs": [
    {
     "name": "stdout",
     "output_type": "stream",
     "text": [
      "The product of 10 multiplied by 10 is: 100\n"
     ]
    }
   ],
   "source": [
    "## 1\n",
    "# first we define our function\n",
    "def times_ten(number):\n",
    "    product = number * 10\n",
    "    print(f\"The product of {number} multiplied by 10 is: {product}\")\n",
    "\n",
    "times_ten(10)"
   ]
  },
  {
   "cell_type": "code",
   "execution_count": 3,
   "id": "66af029e-23bd-44f1-9e7f-066dd43e37e4",
   "metadata": {
    "tags": []
   },
   "outputs": [
    {
     "name": "stdout",
     "output_type": "stream",
     "text": [
      "5.0\n"
     ]
    }
   ],
   "source": [
    "## 2\n",
    "# define our function\n",
    "def half(number):\n",
    "    # divide number in half\n",
    "    return number / 2\n",
    "\n",
    "number = 10\n",
    "# run function and print result\n",
    "result = half(number)\n",
    "print(result)"
   ]
  },
  {
   "cell_type": "code",
   "execution_count": 4,
   "id": "78605bdf-a336-4ae7-a570-353ed8acae52",
   "metadata": {
    "tags": []
   },
   "outputs": [],
   "source": [
    "## programming exercises"
   ]
  },
  {
   "cell_type": "code",
   "execution_count": 6,
   "id": "e471bee4-b497-47a1-8188-c11a665917d3",
   "metadata": {
    "tags": []
   },
   "outputs": [
    {
     "name": "stdin",
     "output_type": "stream",
     "text": [
      "Enter distance in kilometeres:  4\n"
     ]
    },
    {
     "name": "stdout",
     "output_type": "stream",
     "text": [
      "4.0 kilometers is equal to 2.4856 miles.\n"
     ]
    }
   ],
   "source": [
    "## 1.\n",
    "# define function\n",
    "def km_to_miles():\n",
    "    km = float(input(\"Enter distance in kilometeres: \"))\n",
    "    # convert km to miles\n",
    "    miles = km *0.6214\n",
    "    print(f\"{km} kilometers is equal to {miles} miles.\")\n",
    "# call function\n",
    "km_to_miles()"
   ]
  },
  {
   "cell_type": "code",
   "execution_count": 9,
   "id": "3c41500a-81c7-41b4-9214-212838635693",
   "metadata": {
    "tags": []
   },
   "outputs": [
    {
     "name": "stdin",
     "output_type": "stream",
     "text": [
      "Enter a number:  4\n"
     ]
    },
    {
     "name": "stdout",
     "output_type": "stream",
     "text": [
      "4 is not prime.\n"
     ]
    }
   ],
   "source": [
    "## 16.\n",
    "# define our function\n",
    "def is_prime(number):\n",
    "    # numbers less than or 1 are not prime\n",
    "    if number <= 1:\n",
    "        return False\n",
    "    \n",
    "    # Check for factors up to the square root of our number\n",
    "    for i in range(2, int(number**0.5) + 1):\n",
    "        # if divisible by another number its not prime\n",
    "        if number % i == 0:\n",
    "            return False\n",
    "    # if we have no other factors than 1 and itself it is prime\n",
    "    return True\n",
    "\n",
    "# call our function\n",
    "number = int(input(\"Enter a number: \"))\n",
    "\n",
    "if is_prime(number):\n",
    "    print(f\"{number} is prime.\")\n",
    "else:\n",
    "    print(f\"{number} is not prime.\")"
   ]
  },
  {
   "cell_type": "code",
   "execution_count": 11,
   "id": "dde1a809-d392-45b0-8129-ca6cbd59b23c",
   "metadata": {
    "tags": []
   },
   "outputs": [
    {
     "name": "stdout",
     "output_type": "stream",
     "text": [
      "Prime numbers 1 to 100:\n",
      "2 3 5 7 11 13 17 19 23 29 31 37 41 43 47 53 59 61 67 71 73 79 83 89 97 "
     ]
    }
   ],
   "source": [
    "## 17.\n",
    "# define the is_prime function again\n",
    "def is_prime(number):\n",
    "    if number <= 1:\n",
    "        return False\n",
    "    for i in range(2, int(number**0.5) + 1):\n",
    "        if number % i == 0:\n",
    "            return False\n",
    "    return True\n",
    "\n",
    "# now create a function to display all primes 1-100\n",
    "def display_primes():\n",
    "    print(\"Prime numbers 1 to 100:\")\n",
    "    for num in range(2, 101):\n",
    "        if is_prime(num):\n",
    "            print(num, end=\" \")\n",
    "            \n",
    "# call our function\n",
    "display_primes()"
   ]
  },
  {
   "cell_type": "code",
   "execution_count": 12,
   "id": "f87a3a6b-c6cc-432c-badd-1894b6339636",
   "metadata": {
    "tags": []
   },
   "outputs": [
    {
     "name": "stdin",
     "output_type": "stream",
     "text": [
      "Enter the length in feet:  4\n"
     ]
    },
    {
     "name": "stdout",
     "output_type": "stream",
     "text": [
      "4.0 feet is equal to 48.0 inches.\n"
     ]
    }
   ],
   "source": [
    "## 9.\n",
    "# define a function that will multiply every foot by 12\n",
    "def feet_to_inches(feet):\n",
    "    return feet * 12\n",
    "\n",
    "feet_value = float(input(\"Enter the length in feet: \"))\n",
    "inches_value = feet_to_inches(feet_value)\n",
    "print(f\"{feet_value} feet is equal to {inches_value} inches.\")"
   ]
  },
  {
   "cell_type": "code",
   "execution_count": null,
   "id": "63b95aa5-06f5-4e9a-a15b-946f767dc617",
   "metadata": {},
   "outputs": [],
   "source": []
  }
 ],
 "metadata": {
  "kernelspec": {
   "display_name": "Python 3 (ipykernel)",
   "language": "python",
   "name": "python3"
  },
  "language_info": {
   "codemirror_mode": {
    "name": "ipython",
    "version": 3
   },
   "file_extension": ".py",
   "mimetype": "text/x-python",
   "name": "python",
   "nbconvert_exporter": "python",
   "pygments_lexer": "ipython3",
   "version": "3.11.4"
  }
 },
 "nbformat": 4,
 "nbformat_minor": 5
}
