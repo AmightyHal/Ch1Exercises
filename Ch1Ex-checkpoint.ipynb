{
 "cells": [
  {
   "cell_type": "markdown",
   "id": "a9c100f4",
   "metadata": {},
   "source": [
    "# Chapter 1 Ex.\n",
    "\n",
    "Problems 1, 3, 4"
   ]
  },
  {
   "cell_type": "markdown",
   "id": "0c4b5fb0",
   "metadata": {},
   "source": [
    "## Ex 1"
   ]
  },
  {
   "cell_type": "code",
   "execution_count": 3,
   "id": "60ecc2bb",
   "metadata": {},
   "outputs": [
    {
     "name": "stdout",
     "output_type": "stream",
     "text": [
      "This is a test of the Python interpreter.\n"
     ]
    }
   ],
   "source": [
    "print('This is a test of the Python interpreter.')"
   ]
  },
  {
   "cell_type": "code",
   "execution_count": 4,
   "id": "2347dda9",
   "metadata": {},
   "outputs": [
    {
     "name": "stdout",
     "output_type": "stream",
     "text": [
      "Hello world!\n"
     ]
    }
   ],
   "source": [
    "print('Hello world!')"
   ]
  },
  {
   "cell_type": "markdown",
   "id": "6ad05250",
   "metadata": {},
   "source": [
    "## Ex 3"
   ]
  },
  {
   "cell_type": "markdown",
   "id": "83bcce66",
   "metadata": {},
   "source": [
    "a"
   ]
  }
 ],
 "metadata": {
  "kernelspec": {
   "display_name": "Python 3 (ipykernel)",
   "language": "python",
   "name": "python3"
  },
  "language_info": {
   "codemirror_mode": {
    "name": "ipython",
    "version": 3
   },
   "file_extension": ".py",
   "mimetype": "text/x-python",
   "name": "python",
   "nbconvert_exporter": "python",
   "pygments_lexer": "ipython3",
   "version": "3.11.4"
  }
 },
 "nbformat": 4,
 "nbformat_minor": 5
}
