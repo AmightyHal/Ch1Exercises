{
 "cells": [
  {
   "cell_type": "markdown",
   "id": "b21a7451",
   "metadata": {},
   "source": [
    "# Chapter 1 Ex.\n",
    "\n",
    "Problems 1, 3, 4"
   ]
  },
  {
   "cell_type": "markdown",
   "id": "588dab2d",
   "metadata": {},
   "source": [
    "## Ex 1"
   ]
  },
  {
   "cell_type": "code",
   "execution_count": 3,
   "id": "eba08cf8",
   "metadata": {},
   "outputs": [
    {
     "name": "stdout",
     "output_type": "stream",
     "text": [
      "This is a test of the Python interpreter.\n"
     ]
    }
   ],
   "source": [
    "print('This is a test of the Python interpreter.')"
   ]
  },
  {
   "cell_type": "code",
   "execution_count": 4,
   "id": "5dbe647d",
   "metadata": {},
   "outputs": [
    {
     "name": "stdout",
     "output_type": "stream",
     "text": [
      "Hello world!\n"
     ]
    }
   ],
   "source": [
    "print('Hello world!')"
   ]
  },
  {
   "cell_type": "markdown",
   "id": "42166630",
   "metadata": {},
   "source": [
    "## Ex 3"
   ]
  },
  {
   "cell_type": "markdown",
   "id": "366a1446",
   "metadata": {},
   "source": [
    "11\n",
    "bit pattern for 11\n",
    "1011\n",
    "\n",
    "65\n",
    "bit pattern for 65\n",
    "1000001\n",
    "\n",
    "100\n",
    "bit pattern for 100\n",
    "1100100\n",
    "\n",
    "255\n",
    "bit pattern for 255\n",
    "11111111"
   ]
  },
  {
   "cell_type": "markdown",
   "id": "e0701a13",
   "metadata": {},
   "source": [
    "## Ex 4"
   ]
  },
  {
   "cell_type": "markdown",
   "id": "66b8dbfe",
   "metadata": {},
   "source": [
    "1101\n",
    "decimal: 1+4+8=13\n",
    "\n",
    "1000\n",
    "decimal: 8\n",
    "\n",
    "101011\n",
    "decimal: 1+2+8+32=43"
   ]
  }
 ],
 "metadata": {
  "kernelspec": {
   "display_name": "Python 3 (ipykernel)",
   "language": "python",
   "name": "python3"
  },
  "language_info": {
   "codemirror_mode": {
    "name": "ipython",
    "version": 3
   },
   "file_extension": ".py",
   "mimetype": "text/x-python",
   "name": "python",
   "nbconvert_exporter": "python",
   "pygments_lexer": "ipython3",
   "version": "3.11.4"
  }
 },
 "nbformat": 4,
 "nbformat_minor": 5
}
